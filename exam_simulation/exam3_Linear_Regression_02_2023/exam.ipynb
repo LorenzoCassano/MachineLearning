{
  "nbformat": 4,
  "nbformat_minor": 0,
  "metadata": {
    "colab": {
      "provenance": []
    },
    "kernelspec": {
      "name": "python3",
      "display_name": "Python 3"
    },
    "language_info": {
      "name": "python"
    }
  },
  "cells": [
    {
      "cell_type": "markdown",
      "source": [
        "## 0 Importing Libraries"
      ],
      "metadata": {
        "id": "mzuhmGSrXLZy"
      }
    },
    {
      "cell_type": "code",
      "source": [
        "import matplotlib.pyplot as plt\n",
        "import numpy as np\n",
        "import scipy.stats\n",
        "from sklearn import datasets, linear_model\n",
        "from sklearn.metrics import mean_squared_error, r2_score\n",
        "import pandas as pd\n",
        "from sklearn.model_selection import train_test_split\n",
        "import seaborn as sns\n",
        "from sklearn.tree import DecisionTreeRegressor\n",
        "from sklearn.model_selection import GridSearchCV\n",
        "random_state = 94922767 # this will be used to guarantee the repeatability of the experiment"
      ],
      "metadata": {
        "id": "QRDV4--NXTBE"
      },
      "execution_count": 61,
      "outputs": []
    },
    {
      "cell_type": "code",
      "source": [
        "from google.colab import drive\n",
        "drive.mount('/content/drive')"
      ],
      "metadata": {
        "colab": {
          "base_uri": "https://localhost:8080/"
        },
        "id": "Mqyy3OOKgoOq",
        "outputId": "3da7da3a-6031-4788-fab1-c8d90d71cc0f"
      },
      "execution_count": 19,
      "outputs": [
        {
          "output_type": "stream",
          "name": "stdout",
          "text": [
            "Drive already mounted at /content/drive; to attempt to forcibly remount, call drive.mount(\"/content/drive\", force_remount=True).\n"
          ]
        }
      ]
    },
    {
      "cell_type": "markdown",
      "source": [
        "## 1\n",
        "Load the data file and explore the data, showing size, data descriptions,\n",
        "data distributions with boxplot, and correlation between columns"
      ],
      "metadata": {
        "id": "J90ZDlbFhELx"
      }
    },
    {
      "cell_type": "code",
      "source": [
        "path = '/content/drive/MyDrive/ml_python_labexam_2023_02_03.csv'\n",
        "df = pd.read_csv(path, sep = ',')"
      ],
      "metadata": {
        "id": "MOELrAk0gszf"
      },
      "execution_count": 23,
      "outputs": []
    },
    {
      "cell_type": "code",
      "source": [
        "df.shape"
      ],
      "metadata": {
        "colab": {
          "base_uri": "https://localhost:8080/"
        },
        "id": "H4H9dx4khHOn",
        "outputId": "2a4725e4-356d-4f8a-9608-8b89dda130f0"
      },
      "execution_count": 24,
      "outputs": [
        {
          "output_type": "execute_result",
          "data": {
            "text/plain": [
              "(1000, 11)"
            ]
          },
          "metadata": {},
          "execution_count": 24
        }
      ]
    },
    {
      "cell_type": "code",
      "source": [
        "df.describe(include = 'all')"
      ],
      "metadata": {
        "colab": {
          "base_uri": "https://localhost:8080/",
          "height": 364
        },
        "id": "FyKXSJSmhLny",
        "outputId": "3026e59a-ad73-40d6-9fbd-6a240f3c1562"
      },
      "execution_count": 25,
      "outputs": [
        {
          "output_type": "execute_result",
          "data": {
            "text/plain": [
              "               X00          X01          X02           X03           X04  \\\n",
              "count  1000.000000  1000.000000  1000.000000  1.000000e+03  1.000000e+03   \n",
              "mean      0.000127     0.000297    -0.000421  3.378287e-01  2.521912e-01   \n",
              "std       0.023475     0.018878     0.019124  2.952473e-01  2.877240e-01   \n",
              "min      -0.074550    -0.055749    -0.063489  9.531015e-07  6.913766e-10   \n",
              "25%      -0.015763    -0.012357    -0.013722  6.778294e-02  1.552023e-02   \n",
              "50%       0.000446     0.000269    -0.000891  2.638645e-01  1.218160e-01   \n",
              "75%       0.015529     0.013924     0.012571  5.712697e-01  4.295876e-01   \n",
              "max       0.079599     0.073114     0.052593  9.996939e-01  9.988956e-01   \n",
              "\n",
              "               X05          X06          X07          X08          X09  \\\n",
              "count  1000.000000  1000.000000  1000.000000  1000.000000  1000.000000   \n",
              "mean      0.000364    -0.000191     0.000553     0.000130     0.000524   \n",
              "std       0.017402     0.019349     0.017783     0.018999     0.025391   \n",
              "min      -0.054694    -0.058531    -0.054578    -0.062925    -0.073059   \n",
              "25%      -0.011251    -0.013393    -0.011797    -0.012001    -0.018202   \n",
              "50%       0.000675    -0.000333     0.000422    -0.000858    -0.000219   \n",
              "75%       0.012217     0.012797     0.012697     0.012722     0.018642   \n",
              "max       0.053673     0.051803     0.049480     0.061867     0.081461   \n",
              "\n",
              "                 y  \n",
              "count  1000.000000  \n",
              "mean      0.437747  \n",
              "std       2.407762  \n",
              "min      -6.609545  \n",
              "25%      -1.200759  \n",
              "50%       0.336424  \n",
              "75%       2.175038  \n",
              "max       7.915506  "
            ],
            "text/html": [
              "\n",
              "  <div id=\"df-7516f4a3-a8c0-492a-ba8e-bd40e7fe0501\">\n",
              "    <div class=\"colab-df-container\">\n",
              "      <div>\n",
              "<style scoped>\n",
              "    .dataframe tbody tr th:only-of-type {\n",
              "        vertical-align: middle;\n",
              "    }\n",
              "\n",
              "    .dataframe tbody tr th {\n",
              "        vertical-align: top;\n",
              "    }\n",
              "\n",
              "    .dataframe thead th {\n",
              "        text-align: right;\n",
              "    }\n",
              "</style>\n",
              "<table border=\"1\" class=\"dataframe\">\n",
              "  <thead>\n",
              "    <tr style=\"text-align: right;\">\n",
              "      <th></th>\n",
              "      <th>X00</th>\n",
              "      <th>X01</th>\n",
              "      <th>X02</th>\n",
              "      <th>X03</th>\n",
              "      <th>X04</th>\n",
              "      <th>X05</th>\n",
              "      <th>X06</th>\n",
              "      <th>X07</th>\n",
              "      <th>X08</th>\n",
              "      <th>X09</th>\n",
              "      <th>y</th>\n",
              "    </tr>\n",
              "  </thead>\n",
              "  <tbody>\n",
              "    <tr>\n",
              "      <th>count</th>\n",
              "      <td>1000.000000</td>\n",
              "      <td>1000.000000</td>\n",
              "      <td>1000.000000</td>\n",
              "      <td>1.000000e+03</td>\n",
              "      <td>1.000000e+03</td>\n",
              "      <td>1000.000000</td>\n",
              "      <td>1000.000000</td>\n",
              "      <td>1000.000000</td>\n",
              "      <td>1000.000000</td>\n",
              "      <td>1000.000000</td>\n",
              "      <td>1000.000000</td>\n",
              "    </tr>\n",
              "    <tr>\n",
              "      <th>mean</th>\n",
              "      <td>0.000127</td>\n",
              "      <td>0.000297</td>\n",
              "      <td>-0.000421</td>\n",
              "      <td>3.378287e-01</td>\n",
              "      <td>2.521912e-01</td>\n",
              "      <td>0.000364</td>\n",
              "      <td>-0.000191</td>\n",
              "      <td>0.000553</td>\n",
              "      <td>0.000130</td>\n",
              "      <td>0.000524</td>\n",
              "      <td>0.437747</td>\n",
              "    </tr>\n",
              "    <tr>\n",
              "      <th>std</th>\n",
              "      <td>0.023475</td>\n",
              "      <td>0.018878</td>\n",
              "      <td>0.019124</td>\n",
              "      <td>2.952473e-01</td>\n",
              "      <td>2.877240e-01</td>\n",
              "      <td>0.017402</td>\n",
              "      <td>0.019349</td>\n",
              "      <td>0.017783</td>\n",
              "      <td>0.018999</td>\n",
              "      <td>0.025391</td>\n",
              "      <td>2.407762</td>\n",
              "    </tr>\n",
              "    <tr>\n",
              "      <th>min</th>\n",
              "      <td>-0.074550</td>\n",
              "      <td>-0.055749</td>\n",
              "      <td>-0.063489</td>\n",
              "      <td>9.531015e-07</td>\n",
              "      <td>6.913766e-10</td>\n",
              "      <td>-0.054694</td>\n",
              "      <td>-0.058531</td>\n",
              "      <td>-0.054578</td>\n",
              "      <td>-0.062925</td>\n",
              "      <td>-0.073059</td>\n",
              "      <td>-6.609545</td>\n",
              "    </tr>\n",
              "    <tr>\n",
              "      <th>25%</th>\n",
              "      <td>-0.015763</td>\n",
              "      <td>-0.012357</td>\n",
              "      <td>-0.013722</td>\n",
              "      <td>6.778294e-02</td>\n",
              "      <td>1.552023e-02</td>\n",
              "      <td>-0.011251</td>\n",
              "      <td>-0.013393</td>\n",
              "      <td>-0.011797</td>\n",
              "      <td>-0.012001</td>\n",
              "      <td>-0.018202</td>\n",
              "      <td>-1.200759</td>\n",
              "    </tr>\n",
              "    <tr>\n",
              "      <th>50%</th>\n",
              "      <td>0.000446</td>\n",
              "      <td>0.000269</td>\n",
              "      <td>-0.000891</td>\n",
              "      <td>2.638645e-01</td>\n",
              "      <td>1.218160e-01</td>\n",
              "      <td>0.000675</td>\n",
              "      <td>-0.000333</td>\n",
              "      <td>0.000422</td>\n",
              "      <td>-0.000858</td>\n",
              "      <td>-0.000219</td>\n",
              "      <td>0.336424</td>\n",
              "    </tr>\n",
              "    <tr>\n",
              "      <th>75%</th>\n",
              "      <td>0.015529</td>\n",
              "      <td>0.013924</td>\n",
              "      <td>0.012571</td>\n",
              "      <td>5.712697e-01</td>\n",
              "      <td>4.295876e-01</td>\n",
              "      <td>0.012217</td>\n",
              "      <td>0.012797</td>\n",
              "      <td>0.012697</td>\n",
              "      <td>0.012722</td>\n",
              "      <td>0.018642</td>\n",
              "      <td>2.175038</td>\n",
              "    </tr>\n",
              "    <tr>\n",
              "      <th>max</th>\n",
              "      <td>0.079599</td>\n",
              "      <td>0.073114</td>\n",
              "      <td>0.052593</td>\n",
              "      <td>9.996939e-01</td>\n",
              "      <td>9.988956e-01</td>\n",
              "      <td>0.053673</td>\n",
              "      <td>0.051803</td>\n",
              "      <td>0.049480</td>\n",
              "      <td>0.061867</td>\n",
              "      <td>0.081461</td>\n",
              "      <td>7.915506</td>\n",
              "    </tr>\n",
              "  </tbody>\n",
              "</table>\n",
              "</div>\n",
              "      <button class=\"colab-df-convert\" onclick=\"convertToInteractive('df-7516f4a3-a8c0-492a-ba8e-bd40e7fe0501')\"\n",
              "              title=\"Convert this dataframe to an interactive table.\"\n",
              "              style=\"display:none;\">\n",
              "        \n",
              "  <svg xmlns=\"http://www.w3.org/2000/svg\" height=\"24px\"viewBox=\"0 0 24 24\"\n",
              "       width=\"24px\">\n",
              "    <path d=\"M0 0h24v24H0V0z\" fill=\"none\"/>\n",
              "    <path d=\"M18.56 5.44l.94 2.06.94-2.06 2.06-.94-2.06-.94-.94-2.06-.94 2.06-2.06.94zm-11 1L8.5 8.5l.94-2.06 2.06-.94-2.06-.94L8.5 2.5l-.94 2.06-2.06.94zm10 10l.94 2.06.94-2.06 2.06-.94-2.06-.94-.94-2.06-.94 2.06-2.06.94z\"/><path d=\"M17.41 7.96l-1.37-1.37c-.4-.4-.92-.59-1.43-.59-.52 0-1.04.2-1.43.59L10.3 9.45l-7.72 7.72c-.78.78-.78 2.05 0 2.83L4 21.41c.39.39.9.59 1.41.59.51 0 1.02-.2 1.41-.59l7.78-7.78 2.81-2.81c.8-.78.8-2.07 0-2.86zM5.41 20L4 18.59l7.72-7.72 1.47 1.35L5.41 20z\"/>\n",
              "  </svg>\n",
              "      </button>\n",
              "      \n",
              "  <style>\n",
              "    .colab-df-container {\n",
              "      display:flex;\n",
              "      flex-wrap:wrap;\n",
              "      gap: 12px;\n",
              "    }\n",
              "\n",
              "    .colab-df-convert {\n",
              "      background-color: #E8F0FE;\n",
              "      border: none;\n",
              "      border-radius: 50%;\n",
              "      cursor: pointer;\n",
              "      display: none;\n",
              "      fill: #1967D2;\n",
              "      height: 32px;\n",
              "      padding: 0 0 0 0;\n",
              "      width: 32px;\n",
              "    }\n",
              "\n",
              "    .colab-df-convert:hover {\n",
              "      background-color: #E2EBFA;\n",
              "      box-shadow: 0px 1px 2px rgba(60, 64, 67, 0.3), 0px 1px 3px 1px rgba(60, 64, 67, 0.15);\n",
              "      fill: #174EA6;\n",
              "    }\n",
              "\n",
              "    [theme=dark] .colab-df-convert {\n",
              "      background-color: #3B4455;\n",
              "      fill: #D2E3FC;\n",
              "    }\n",
              "\n",
              "    [theme=dark] .colab-df-convert:hover {\n",
              "      background-color: #434B5C;\n",
              "      box-shadow: 0px 1px 3px 1px rgba(0, 0, 0, 0.15);\n",
              "      filter: drop-shadow(0px 1px 2px rgba(0, 0, 0, 0.3));\n",
              "      fill: #FFFFFF;\n",
              "    }\n",
              "  </style>\n",
              "\n",
              "      <script>\n",
              "        const buttonEl =\n",
              "          document.querySelector('#df-7516f4a3-a8c0-492a-ba8e-bd40e7fe0501 button.colab-df-convert');\n",
              "        buttonEl.style.display =\n",
              "          google.colab.kernel.accessAllowed ? 'block' : 'none';\n",
              "\n",
              "        async function convertToInteractive(key) {\n",
              "          const element = document.querySelector('#df-7516f4a3-a8c0-492a-ba8e-bd40e7fe0501');\n",
              "          const dataTable =\n",
              "            await google.colab.kernel.invokeFunction('convertToInteractive',\n",
              "                                                     [key], {});\n",
              "          if (!dataTable) return;\n",
              "\n",
              "          const docLinkHtml = 'Like what you see? Visit the ' +\n",
              "            '<a target=\"_blank\" href=https://colab.research.google.com/notebooks/data_table.ipynb>data table notebook</a>'\n",
              "            + ' to learn more about interactive tables.';\n",
              "          element.innerHTML = '';\n",
              "          dataTable['output_type'] = 'display_data';\n",
              "          await google.colab.output.renderOutput(dataTable, element);\n",
              "          const docLink = document.createElement('div');\n",
              "          docLink.innerHTML = docLinkHtml;\n",
              "          element.appendChild(docLink);\n",
              "        }\n",
              "      </script>\n",
              "    </div>\n",
              "  </div>\n",
              "  "
            ]
          },
          "metadata": {},
          "execution_count": 25
        }
      ]
    },
    {
      "cell_type": "markdown",
      "source": [
        "I did 2 box plot to observe better the boxplot.<br>\n",
        "I used this boxplots because using the boxplot with features and target features does not give so much information because the range of value of target feature is a different from the others. <br>\n",
        "The range of the features is more or less 0;1. The target features has not this scale of values."
      ],
      "metadata": {
        "id": "dmEC7nJfizGa"
      }
    },
    {
      "cell_type": "code",
      "source": [
        "df1 = df.drop('y', axis = 1)\n",
        "#sns.set(rc={'figure.figsize':(11.7,8.27)})\n",
        "sns.boxplot(data = df1)"
      ],
      "metadata": {
        "colab": {
          "base_uri": "https://localhost:8080/",
          "height": 517
        },
        "id": "Wg8PbBuMhXpB",
        "outputId": "3b7380d3-077a-4c24-b2f8-f9597714684d"
      },
      "execution_count": 38,
      "outputs": [
        {
          "output_type": "execute_result",
          "data": {
            "text/plain": [
              "<matplotlib.axes._subplots.AxesSubplot at 0x7fb7b94ad580>"
            ]
          },
          "metadata": {},
          "execution_count": 38
        },
        {
          "output_type": "display_data",
          "data": {
            "text/plain": [
              "<Figure size 842.4x595.44 with 1 Axes>"
            ],
            "image/png": "[encoded data removed]"
          },
          "metadata": {}
        }
      ]
    },
    {
      "cell_type": "code",
      "source": [
        "sns.boxplot(data = df['y'])"
      ],
      "metadata": {
        "colab": {
          "base_uri": "https://localhost:8080/",
          "height": 517
        },
        "id": "0wkFXGoLi5ay",
        "outputId": "419c87a1-8d63-4c85-8fbe-4cc5703d0eaa"
      },
      "execution_count": 34,
      "outputs": [
        {
          "output_type": "execute_result",
          "data": {
            "text/plain": [
              "<matplotlib.axes._subplots.AxesSubplot at 0x7fb7bb1c1a00>"
            ]
          },
          "metadata": {},
          "execution_count": 34
        },
        {
          "output_type": "display_data",
          "data": {
            "text/plain": [
              "<Figure size 842.4x595.44 with 1 Axes>"
            ],
            "image/png": "[encoded data removed]"
          },
          "metadata": {}
        }
      ]
    },
    {
      "cell_type": "code",
      "source": [
        "corr = df[df.columns].corr()\n",
        "plt.figure(figsize=(15,10)) # set X and Y size\n",
        "sns.heatmap(corr, cmap=\"YlGnBu\", annot=True);"
      ],
      "metadata": {
        "colab": {
          "base_uri": "https://localhost:8080/",
          "height": 598
        },
        "id": "0oEDn7nhiQ-Y",
        "outputId": "b734ada2-064e-437f-861e-248f4e5ae227"
      },
      "execution_count": 35,
      "outputs": [
        {
          "output_type": "display_data",
          "data": {
            "text/plain": [
              "<Figure size 1080x720 with 2 Axes>"
            ],
            "image/png": "[encoded data removed]"
          },
          "metadata": {}
        }
      ]
    },
    {
      "cell_type": "markdown",
      "source": [
        "## 2 \n",
        "Comment the exploration of step 1 pointing out if there are predicting\n",
        "columns having the absolute value of correlation with the target less\n",
        "than 0.15"
      ],
      "metadata": {
        "id": "7hTz1XUoiWQX"
      }
    },
    {
      "cell_type": "markdown",
      "source": [
        "All the features excepet X2 and X3 have the outlier below and under the quartiles.\n",
        "Observing the Correlation (metric used is Pearson Correlation),  it is possbile to notice that the features with an absolute value less than 0.15 are: X03,X04,X07.\n",
        "So,in the point 4 we can drop it, because they have a little correlation with the target feature."
      ],
      "metadata": {
        "id": "oQx-GyRRieGN"
      }
    },
    {
      "cell_type": "markdown",
      "source": [
        "## 3\n",
        "train test a multivariate linear regressor and show the Root Mean\n",
        "Squared Error"
      ],
      "metadata": {
        "id": "UKmLkiVrkYI7"
      }
    },
    {
      "cell_type": "markdown",
      "source": [
        "## Train test split"
      ],
      "metadata": {
        "id": "WXgqGuiskZxa"
      }
    },
    {
      "cell_type": "code",
      "source": [
        "target = \"y\"\n",
        "X = df.drop(target,axis = 1)\n",
        "y = df[target]"
      ],
      "metadata": {
        "id": "2OM0KYILkiBP"
      },
      "execution_count": 70,
      "outputs": []
    },
    {
      "cell_type": "code",
      "source": [
        "Xtrain, Xtest, ytrain, ytest = train_test_split(X, y, random_state = random_state, train_size= 0.7)\n",
        "print(\"Training set and test set have {} and {} elements respectively\".format(Xtrain.shape[0], Xtest.shape[0]))"
      ],
      "metadata": {
        "colab": {
          "base_uri": "https://localhost:8080/"
        },
        "id": "7vmDAz21kfBG",
        "outputId": "155dd0a0-8d6f-4ead-e2f4-9404ddef627b"
      },
      "execution_count": 71,
      "outputs": [
        {
          "output_type": "stream",
          "name": "stdout",
          "text": [
            "Training set and test set have 700 and 300 elements respectively\n"
          ]
        }
      ]
    },
    {
      "cell_type": "markdown",
      "source": [
        "## Using multivariate linear regression"
      ],
      "metadata": {
        "id": "DIZgWlhqlT52"
      }
    },
    {
      "cell_type": "code",
      "source": [
        "model_multi = linear_model.LinearRegression()\n",
        "model_multi.fit(Xtrain, ytrain)\n",
        "ytest_model_multi = model_multi.predict(Xtest)\n",
        "rmse_multi = mean_squared_error(ytest, ytest_model_multi, squared=True)\n",
        "print(\"Root mean squared error \",round(rmse_multi,2))"
      ],
      "metadata": {
        "colab": {
          "base_uri": "https://localhost:8080/"
        },
        "id": "pipuDsUPlWGg",
        "outputId": "d2d794a4-0fd6-4537-8bed-036e7aabcea5"
      },
      "execution_count": 72,
      "outputs": [
        {
          "output_type": "stream",
          "name": "stdout",
          "text": [
            "Root mean squared error  0.8\n"
          ]
        }
      ]
    },
    {
      "cell_type": "markdown",
      "source": [
        "## 4\n",
        "train test a multivariate linear regressor on the reduced dataset obtained\n",
        "dropping the columns loosely correlated with the target, and show the\n",
        "Root Mean Squared Error"
      ],
      "metadata": {
        "id": "UDMs690lmDKy"
      }
    },
    {
      "cell_type": "code",
      "source": [
        "to_drop = ['X03','X04','X07']\n",
        "df1 = df.drop(to_drop, axis = 1)"
      ],
      "metadata": {
        "id": "P9t9qtCqmHWG"
      },
      "execution_count": 73,
      "outputs": []
    },
    {
      "cell_type": "code",
      "source": [
        "X = df1.drop(target,axis = 1)\n",
        "y = df1[target]"
      ],
      "metadata": {
        "id": "tQIQliqkmLFx"
      },
      "execution_count": 74,
      "outputs": []
    },
    {
      "cell_type": "code",
      "source": [
        "Xtrain, Xtest, ytrain, ytest = train_test_split(X, y, random_state = random_state, train_size= 0.7)\n",
        "print(\"Training set and test set have {} and {} elements respectively\".format(Xtrain.shape[0], Xtest.shape[0]))"
      ],
      "metadata": {
        "colab": {
          "base_uri": "https://localhost:8080/"
        },
        "id": "SBhqDws7mOM2",
        "outputId": "0c2f0cf6-5285-4e6f-b1bc-c0cc4ff066a7"
      },
      "execution_count": 75,
      "outputs": [
        {
          "output_type": "stream",
          "name": "stdout",
          "text": [
            "Training set and test set have 700 and 300 elements respectively\n"
          ]
        }
      ]
    },
    {
      "cell_type": "code",
      "source": [
        "model_best = linear_model.LinearRegression()\n",
        "model_best.fit(Xtrain, ytrain)\n",
        "ytest_model_best = model_best.predict(Xtest)\n",
        "rmse_model_best = mean_squared_error(ytest, ytest_model_best, squared=True)\n",
        "print(\"Root mean squared error \",round(rmse_model_best,2))"
      ],
      "metadata": {
        "colab": {
          "base_uri": "https://localhost:8080/"
        },
        "id": "yrTa1VKbmRlQ",
        "outputId": "e23f701e-1aa8-40a9-aed6-2e61bc47b378"
      },
      "execution_count": 76,
      "outputs": [
        {
          "output_type": "stream",
          "name": "stdout",
          "text": [
            "Root mean squared error  1.07\n"
          ]
        }
      ]
    },
    {
      "cell_type": "markdown",
      "source": [
        "## 5\n",
        "train and test on the reduced dataset a decision tree regressor, and show\n",
        "the Root Mean Squared Error"
      ],
      "metadata": {
        "id": "dqveZtTumn4x"
      }
    },
    {
      "cell_type": "code",
      "source": [
        "model_tree = DecisionTreeRegressor(random_state = random_state)\n",
        "model_tree.fit(Xtrain, ytrain)\n",
        "ytrain_tree = model_tree.predict(Xtrain)\n",
        "fitted_max_depth = model_tree.tree_.max_depth\n",
        "print(\"The maximum depth of the full Decision Tree Regressor is \", fitted_max_depth)"
      ],
      "metadata": {
        "colab": {
          "base_uri": "https://localhost:8080/"
        },
        "id": "vuCcUulXmpFA",
        "outputId": "078c4851-5173-4fb9-ace3-c649ff7d9a99"
      },
      "execution_count": 77,
      "outputs": [
        {
          "output_type": "stream",
          "name": "stdout",
          "text": [
            "The maximum depth of the full Decision Tree Regressor is  20\n"
          ]
        }
      ]
    },
    {
      "cell_type": "code",
      "source": [
        "ytest_tree_model = model_tree.predict(Xtest)\n",
        "rmse_dt = mean_squared_error(ytest, ytest_tree_model, squared = True)\n",
        "print(\"Decision Tree Regression - RMSE = {:.2f}\".format(rmse_dt))"
      ],
      "metadata": {
        "colab": {
          "base_uri": "https://localhost:8080/"
        },
        "id": "TI0kO3a3m9SJ",
        "outputId": "ad0c94d4-2ce3-4981-ea06-ee14eb697431"
      },
      "execution_count": 78,
      "outputs": [
        {
          "output_type": "stream",
          "name": "stdout",
          "text": [
            "Decision Tree Regression - RMSE = 4.56\n"
          ]
        }
      ]
    },
    {
      "cell_type": "markdown",
      "source": [
        "## 6 Optimizing regression tree\n",
        "optimise the depth of the decision tree regressor of step 5 searching for\n",
        "the minimum Root Mean Squared Error with cross-validation, and show\n",
        "the best RMSE"
      ],
      "metadata": {
        "id": "tfaCBvdcnG-M"
      }
    },
    {
      "cell_type": "code",
      "source": [
        "\n",
        "param_grid = {'max_depth': list(range(1,fitted_max_depth))}\n",
        "# create the grid search cross validation object\n",
        "dt_gscv = GridSearchCV(estimator=DecisionTreeRegressor(random_state=random_state)\n",
        "                    , param_grid=param_grid\n",
        "                    , scoring='neg_root_mean_squared_error' # select model with minimum mse\n",
        "                    )\n",
        "dt_gscv.fit(Xtrain,ytrain);\n",
        "dt_best = dt_gscv.best_estimator_ # the GridSearchCV returns the best estimator\n",
        "best_max_depth = dt_best.tree_.max_depth\n",
        "print(\"The optimal maximum depth for the decision tree is {}\".format(best_max_depth))"
      ],
      "metadata": {
        "colab": {
          "base_uri": "https://localhost:8080/"
        },
        "id": "-T0kF8WDnLv7",
        "outputId": "143cb824-e7ef-4c87-8ce3-1f1fd5fd6061"
      },
      "execution_count": 79,
      "outputs": [
        {
          "output_type": "stream",
          "name": "stdout",
          "text": [
            "The optimal maximum depth for the decision tree is 9\n"
          ]
        }
      ]
    },
    {
      "cell_type": "code",
      "source": [
        "ytest_tree_best_model = dt_gscv.predict(Xtest)\n",
        "rmse_dt = mean_squared_error(ytest, ytest_tree_best_model, squared = True)\n",
        "print(\"Decision Tree Regression - RMSE = {:.2f}\".format(rmse_dt))"
      ],
      "metadata": {
        "colab": {
          "base_uri": "https://localhost:8080/"
        },
        "id": "BTcZFHfsncEL",
        "outputId": "41997aca-853e-42dc-aa97-5c013b1a91a4"
      },
      "execution_count": 80,
      "outputs": [
        {
          "output_type": "stream",
          "name": "stdout",
          "text": [
            "Decision Tree Regression - RMSE = 4.54\n"
          ]
        }
      ]
    },
    {
      "cell_type": "markdown",
      "source": [
        "## Comment the results\n",
        "Using a regressor like a tree the performance of the metric root mean squared error increased a lot.\n",
        "With the first experiment we can observed that using the features with a low correlation, the result of the metric decreased. Dropping the columns with a low correlation the multivariate system has better performance.<br>\n",
        "The fit of hyperparameters using cross validation does not have an improvment but only a simplification of the model."
      ],
      "metadata": {
        "id": "FmDsSnVbofqP"
      }
    }
  ]
}